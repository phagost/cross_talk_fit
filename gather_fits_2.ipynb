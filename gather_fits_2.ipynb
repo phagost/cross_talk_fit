{
 "cells": [
  {
   "cell_type": "code",
   "execution_count": 1,
   "metadata": {},
   "outputs": [],
   "source": [
    "from random_fits import gather_params"
   ]
  },
  {
   "cell_type": "code",
   "execution_count": 2,
   "metadata": {},
   "outputs": [
    {
     "name": "stderr",
     "output_type": "stream",
     "text": [
      "5it [02:34, 30.93s/it] \n"
     ]
    },
    {
     "data": {
      "text/plain": [
       "[[5.811081040870903,\n",
       "  245.90175780019632,\n",
       "  4.787357065817644,\n",
       "  8.48187325077207e+38,\n",
       "  4123.200043654842],\n",
       " [5.780599560698549,\n",
       "  247.32969267742604,\n",
       "  4.845945075004678,\n",
       "  8.560899926963255e+38,\n",
       "  4119.90986577124],\n",
       " [5.763439931842083,\n",
       "  246.15690130191834,\n",
       "  4.842861462552644,\n",
       "  8.580526844771104e+38,\n",
       "  4120.7393222687],\n",
       " [5.7708156551632435,\n",
       "  246.3274927542127,\n",
       "  4.86236142391901,\n",
       "  8.591575990609546e+38,\n",
       "  4120.028098989647],\n",
       " [5.643932234402801,\n",
       "  245.47210099511193,\n",
       "  4.865326461387456,\n",
       "  8.540681874380746e+38,\n",
       "  4130.14600851553]]"
      ]
     },
     "execution_count": 2,
     "metadata": {},
     "output_type": "execute_result"
    }
   ],
   "source": [
    "gather_params(5)"
   ]
  },
  {
   "cell_type": "code",
   "execution_count": null,
   "metadata": {},
   "outputs": [],
   "source": []
  }
 ],
 "metadata": {
  "kernelspec": {
   "display_name": "Python 3.10.4 ('cross_talk_fit')",
   "language": "python",
   "name": "python3"
  },
  "language_info": {
   "codemirror_mode": {
    "name": "ipython",
    "version": 3
   },
   "file_extension": ".py",
   "mimetype": "text/x-python",
   "name": "python",
   "nbconvert_exporter": "python",
   "pygments_lexer": "ipython3",
   "version": "3.10.4"
  },
  "orig_nbformat": 4,
  "vscode": {
   "interpreter": {
    "hash": "9ee7da5c3bdea13d501e9ce05114cb89f7208defe13bd9a89c54f3360e9d5faf"
   }
  }
 },
 "nbformat": 4,
 "nbformat_minor": 2
}
